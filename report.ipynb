{
 "cells": [
  {
   "cell_type": "code",
   "execution_count": 8,
   "outputs": [],
   "source": [
    "import math\n",
    "from scipy.special import gammaincc"
   ],
   "metadata": {
    "collapsed": false
   }
  },
  {
   "cell_type": "markdown",
   "source": [
    "Чтение бинарного текста"
   ],
   "metadata": {
    "collapsed": false
   }
  },
  {
   "cell_type": "code",
   "execution_count": 9,
   "outputs": [],
   "source": [
    "def read_file(file_name):\n",
    "    with open(file_name, \"r+\") as file:\n",
    "        text_bin = file.readline()\n",
    "    return text_bin"
   ],
   "metadata": {
    "collapsed": false
   }
  },
  {
   "cell_type": "code",
   "execution_count": 10,
   "outputs": [
    {
     "name": "stdout",
     "output_type": "stream",
     "text": [
      "10110100000001010101111011111010000101000110010001010011111011000110001110011001111110100001000000011110001011001100110000001100\n"
     ]
    }
   ],
   "source": [
    "text = str\n",
    "text = read_file(\"gen_binary_text.txt\")\n",
    "print(text)"
   ],
   "metadata": {
    "collapsed": false
   }
  },
  {
   "cell_type": "code",
   "execution_count": 11,
   "outputs": [],
   "source": [
    "def bits_in_def(text):\n",
    "    bits_in_def = []\n",
    "    for i in range(len(text)):\n",
    "        bits_in_def.append(text[i])\n",
    "    return bits_in_def"
   ],
   "metadata": {
    "collapsed": false
   }
  },
  {
   "cell_type": "code",
   "execution_count": 12,
   "outputs": [
    {
     "name": "stdout",
     "output_type": "stream",
     "text": [
      "['1', '0', '1', '1', '0', '1', '0', '0', '0', '0', '0', '0', '0', '1', '0', '1', '0', '1', '0', '1', '1', '1', '1', '0', '1', '1', '1', '1', '1', '0', '1', '0', '0', '0', '0', '1', '0', '1', '0', '0', '0', '1', '1', '0', '0', '1', '0', '0', '0', '1', '0', '1', '0', '0', '1', '1', '1', '1', '1', '0', '1', '1', '0', '0', '0', '1', '1', '0', '0', '0', '1', '1', '1', '0', '0', '1', '1', '0', '0', '1', '1', '1', '1', '1', '1', '0', '1', '0', '0', '0', '0', '1', '0', '0', '0', '0', '0', '0', '0', '1', '1', '1', '1', '0', '0', '0', '1', '0', '1', '1', '0', '0', '1', '1', '0', '0', '1', '1', '0', '0', '0', '0', '0', '0', '1', '1', '0', '0']\n"
     ]
    }
   ],
   "source": [
    "print(bits_in_def(text))\n",
    "bits = bits_in_def(text)"
   ],
   "metadata": {
    "collapsed": false
   }
  },
  {
   "cell_type": "markdown",
   "source": [
    "Частотный побитовый тест:"
   ],
   "metadata": {
    "collapsed": false
   }
  },
  {
   "cell_type": "code",
   "execution_count": 13,
   "outputs": [],
   "source": [
    "def frequency_test(text):\n",
    "    n = len(text)\n",
    "    s = 0\n",
    "    for i in range(n):\n",
    "        if text[i] == '1':\n",
    "            s += 1\n",
    "    p = s / n\n",
    "    chi = 4 * n * (p ** 2 + (1 - p) ** 2)\n",
    "    p_value = gammaincc(n / 2, chi / 2)\n",
    "    return p_value"
   ],
   "metadata": {
    "collapsed": false
   }
  },
  {
   "cell_type": "code",
   "execution_count": 14,
   "outputs": [
    {
     "name": "stdout",
     "output_type": "stream",
     "text": [
      "9.556513642078215e-11\n"
     ]
    }
   ],
   "source": [
    "print(frequency_test(bits))"
   ],
   "metadata": {
    "collapsed": false
   }
  },
  {
   "cell_type": "markdown",
   "source": [
    "Тест на одинаковые подряд идущие биты:"
   ],
   "metadata": {
    "collapsed": false
   }
  },
  {
   "cell_type": "code",
   "execution_count": 15,
   "outputs": [],
   "source": [
    "def ident_secutive_bits_test(bits_in_def: list):\n",
    "    freq_1 = bits_in_def.count('1') / 128\n",
    "    runs = [bits_in_def[0]]\n",
    "    for i in range(1, 128):\n",
    "        if bits_in_def[i] != bits_in_def[i - 1]:\n",
    "            runs.append(bits_in_def[i])\n",
    "\n",
    "    num = len(runs)\n",
    "    P = math.erfc(abs(num - 2 * 128 * freq_1 * (1 - freq_1)) / (2 * math.sqrt(2 * 128) * freq_1 * (1 - freq_1)))\n",
    "    print(P)\n",
    "    return P > 0.01"
   ],
   "metadata": {
    "collapsed": false
   }
  },
  {
   "cell_type": "code",
   "execution_count": 16,
   "outputs": [
    {
     "name": "stdout",
     "output_type": "stream",
     "text": [
      "0.3184266820209769\n",
      "True\n"
     ]
    }
   ],
   "source": [
    "print(ident_secutive_bits_test(bits))"
   ],
   "metadata": {
    "collapsed": false
   }
  },
  {
   "cell_type": "markdown",
   "source": [
    "Тест на самую длинную последовательность единиц в блоке:"
   ],
   "metadata": {
    "collapsed": false
   }
  },
  {
   "cell_type": "code",
   "execution_count": 27,
   "outputs": [],
   "source": [
    "def longest_run_of_ones(bits_in_def: list):\n",
    "    c_b = 128 // 8\n",
    "    mas_count = []\n",
    "\n",
    "    for i in range(c_b):\n",
    "        block = bits_in_def[i * 8: (i + 1) * 8]\n",
    "        one = 0\n",
    "        max_one_in_block = 0\n",
    "        max_run = 0\n",
    "        for bit in block:\n",
    "            if bit == '1':\n",
    "                one += 1\n",
    "                max_one_in_block = max(max_one_in_block, one)\n",
    "            else:\n",
    "                one = 0\n",
    "        max_run = max(max_run, max_one_in_block)\n",
    "        mas_count.append(max_run)\n",
    "\n",
    "    v1 = sum(x <= 1 for x in mas_count)\n",
    "    v2 = sum(x == 2 for x in mas_count)\n",
    "    v3 = sum(x == 3 for x in mas_count)\n",
    "    v4 = sum(x > 4 for x in mas_count)\n",
    "    k0 = 0.2148\n",
    "    k1 = 0.3672\n",
    "    k2 = 0.2305\n",
    "    k3 = 0.1875\n",
    "\n",
    "    X = ((v1 - 16 * k0) ** 2) / (16 * k0) + ((v2 - 16 * k1) ** 2) / (16 * k1) + ((v3 - 16 * k2) ** 2) / (16 * k2) + (\n",
    "            (v4 - 16 * k3) ** 2) / (16 * k3)\n",
    "    P = gammaincc(3 / 2, X / 2)\n",
    "\n",
    "    print(P)\n",
    "    return P > 0.01"
   ],
   "metadata": {
    "collapsed": false
   }
  },
  {
   "cell_type": "code",
   "execution_count": 28,
   "outputs": [
    {
     "name": "stdout",
     "output_type": "stream",
     "text": [
      "0.37401787078861626\n",
      "True\n"
     ]
    }
   ],
   "source": [
    "print(longest_run_of_ones(bits))"
   ],
   "metadata": {
    "collapsed": false
   }
  }
 ],
 "metadata": {
  "kernelspec": {
   "display_name": "Python 3",
   "language": "python",
   "name": "python3"
  },
  "language_info": {
   "codemirror_mode": {
    "name": "ipython",
    "version": 2
   },
   "file_extension": ".py",
   "mimetype": "text/x-python",
   "name": "python",
   "nbconvert_exporter": "python",
   "pygments_lexer": "ipython2",
   "version": "2.7.6"
  }
 },
 "nbformat": 4,
 "nbformat_minor": 0
}
